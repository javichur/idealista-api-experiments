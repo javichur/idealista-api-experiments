{
 "cells": [
  {
   "cell_type": "markdown",
   "metadata": {},
   "source": [
    "# Idealista API experiments\n",
    "\n",
    "🏠 Notebook para probar la API de Idealista. El acceso a la API se solicita aquí: https://developers.idealista.com/access-request\n",
    "\n",
    "🤖 Código generado con IAs y con humanos."
   ]
  },
  {
   "cell_type": "code",
   "execution_count": null,
   "metadata": {},
   "outputs": [],
   "source": [
    "# API_KEY y API SECRET se solicitan aquí: https://developers.idealista.com/access-request\n",
    "\n",
    "API_KEY = '<completa esto>'\n",
    "API_SECRET = '<completa esto>'"
   ]
  },
  {
   "cell_type": "code",
   "execution_count": null,
   "metadata": {},
   "outputs": [],
   "source": [
    "import requests\n",
    "from requests.auth import HTTPBasicAuth\n",
    "import time\n",
    "import json\n",
    "from datetime import datetime"
   ]
  },
  {
   "cell_type": "code",
   "execution_count": null,
   "metadata": {},
   "outputs": [],
   "source": [
    "def show_inmuebles(inmuebles):\n",
    "    if inmuebles:\n",
    "\n",
    "        # Ordenar por precio ascendente\n",
    "        inmuebles_ordenados = sorted(\n",
    "            inmuebles,\n",
    "            key=lambda x: x.get(\"price\", float(\"inf\"))  # Si no tiene precio, lo manda al final\n",
    "        )\n",
    "\n",
    "        print(f\"✅ Inmuebles encontrados: {len(inmuebles_ordenados)}\")\n",
    "        for i, inmueble in enumerate(inmuebles_ordenados, 1):\n",
    "            titulo = inmueble.get(\"suggestedTexts\", {}).get(\"title\", \"Sin título\")\n",
    "            subtitulo = inmueble.get(\"suggestedTexts\", {}).get(\"subtitle\", \"\")\n",
    "            descripcion = inmueble.get(\"description\") or \"Sin descripción\"\n",
    "            precio = inmueble.get(\"price\", \"Desconocido\")\n",
    "            url = inmueble.get(\"url\", \"No disponible\")\n",
    "            size = inmueble.get(\"size\", None)\n",
    "            superficie = f\"{size} m²\" if size else \"Superficie no disponible\"\n",
    "\n",
    "            imagen_url = inmueble.get(\"thumbnail\", \"Sin imagen\")\n",
    "\n",
    "            print(f\"\\n🏠 Inmueble {i}\")\n",
    "            print(f\"Título: {titulo}\")\n",
    "            if subtitulo:\n",
    "                print(f\"Zona: {subtitulo}\")\n",
    "            print(f\"Superficie: {superficie}\")\n",
    "            print(f\"Descripción: {descripcion[:200]}...\")\n",
    "            print(f\"Precio: {precio} €\")\n",
    "            print(f\"URL: {url}\")\n",
    "            print(f\"Imagen: {imagen_url}\")\n",
    "\n",
    "\n",
    "    else:\n",
    "        print(\"ℹ️ No se encontraron inmuebles.\")"
   ]
  },
  {
   "cell_type": "code",
   "execution_count": null,
   "metadata": {},
   "outputs": [],
   "source": [
    "def obtener_token_idealista():\n",
    "    url = \"https://api.idealista.com/oauth/token\"\n",
    "    headers = {\"Content-Type\": \"application/x-www-form-urlencoded\"}\n",
    "    data = {\"grant_type\": \"client_credentials\", \"scope\": \"read\"}\n",
    "\n",
    "    try:\n",
    "        response = requests.post(\n",
    "            url,\n",
    "            headers=headers,\n",
    "            data=data,\n",
    "            auth=HTTPBasicAuth(API_KEY, API_SECRET)\n",
    "        )\n",
    "        response.raise_for_status()\n",
    "        token = response.json()[\"access_token\"]\n",
    "        return token\n",
    "    except Exception as e:\n",
    "        print(f\"❌ Error al obtener token: {e}\")\n",
    "        return None"
   ]
  },
  {
   "cell_type": "code",
   "execution_count": null,
   "metadata": {},
   "outputs": [],
   "source": [
    "def buscar_inmuebles_akupados(token, limite_paginas=5):\n",
    "    url = \"https://api.idealista.com/3.5/es/search\"\n",
    "    headers = {\n",
    "        \"Authorization\": f\"Bearer {token}\",\n",
    "        \"Content-Type\": \"application/x-www-form-urlencoded\"\n",
    "    }\n",
    "\n",
    "    palabras_clave = [\"okupa\", \"ocupado\", \"sin posesión\"]\n",
    "    exclusiones = [\"no está okupado\", \"no okupado\", \"no está ocupado\", \"no ocupado\"]\n",
    "\n",
    "    inmuebles_filtrados = []\n",
    "    todos_los_inmuebles = []\n",
    "    num_page = 1\n",
    "    max_items_per_page = 50  # 50 es el máximo permitido por Idealista\n",
    "\n",
    "    while num_page <= limite_paginas:\n",
    "        payload = {\n",
    "            \"operation\": \"sale\",\n",
    "            \"propertyType\": \"homes\",\n",
    "            \"center\": \"40.416775,-3.703790\",  # Madrid centro\n",
    "            \"distance\": 5000, # distancia en metros\n",
    "            \"maxItems\": max_items_per_page,\n",
    "            \"numPage\": num_page,\n",
    "            \"language\": \"es\",\n",
    "            \"country\": \"es\",\n",
    "            \"order\": \"distance\",\n",
    "            \"sort\": \"desc\",\n",
    "            # \"bankOffer\": \"true\"  # <- Para buscar inmuebles de bancos\n",
    "        }\n",
    "\n",
    "        try:\n",
    "            response = requests.post(url, headers=headers, data=payload)\n",
    "            response.raise_for_status()\n",
    "            data = response.json()\n",
    "\n",
    "            elementos = data.get(\"elementList\", [])\n",
    "            total = data.get(\"total\", 0)\n",
    "\n",
    "            todos_los_inmuebles.extend(elementos)\n",
    "\n",
    "            for inmueble in elementos:\n",
    "                texto = (inmueble.get(\"description\", \"\") + \" \" + inmueble.get(\"suggestedTexts\", {}).get(\"title\", \"\")).lower()\n",
    "                if any(p in texto for p in palabras_clave) and not any(e in texto for e in exclusiones):\n",
    "                    inmuebles_filtrados.append(inmueble)\n",
    "\n",
    "            print(f\"✅ Página {num_page} procesada. Filtrados: {len(inmuebles_filtrados)} / Totales: {len(todos_los_inmuebles)}\")\n",
    "\n",
    "            if num_page * max_items_per_page >= total:\n",
    "                break\n",
    "\n",
    "            time.sleep(1)\n",
    "            \n",
    "            num_page += 1\n",
    "        except requests.exceptions.HTTPError as e:\n",
    "            print(f\"❌ Error HTTP: {response.status_code} - {response.text}\")\n",
    "            break\n",
    "        except Exception as e:\n",
    "            print(f\"❌ Error general: {e}\")\n",
    "            break\n",
    "\n",
    "    return inmuebles_filtrados, todos_los_inmuebles"
   ]
  },
  {
   "cell_type": "code",
   "execution_count": null,
   "metadata": {},
   "outputs": [],
   "source": [
    "\n",
    "def guardar_inmuebles(filename, inmuebles):\n",
    "    if inmuebles:\n",
    "        with open(filename, \"w\", encoding=\"utf-8\") as f:\n",
    "            json.dump(inmuebles, f, ensure_ascii=False, indent=2)\n",
    "\n",
    "        print(f\"📁 Archivo '{filename}' guardado con éxito.\")\n",
    "    else:\n",
    "        print('❌ Error, no hay inmuebles para guardar.')"
   ]
  },
  {
   "cell_type": "code",
   "execution_count": null,
   "metadata": {},
   "outputs": [],
   "source": [
    "MAX_PAGES = 20 # ten en cuenta las condiciones de uso de la API. Puede que tengas un límite de petiones mensual o un coste por cada petición.\n",
    "\n",
    "token = obtener_token_idealista()\n",
    "if token:\n",
    "    inmuebles_okupados , todos_los_inmuebles = buscar_inmuebles_akupados(token, MAX_PAGES)\n",
    "\n",
    "    show_inmuebles(inmuebles_okupados)"
   ]
  },
  {
   "cell_type": "code",
   "execution_count": null,
   "metadata": {},
   "outputs": [],
   "source": [
    "now = datetime.now().strftime(\"%Y%m%d_%H%M\")\n",
    "\n",
    "filename = f\"inmuebles/inmuebles_okupados_{now}.json\"\n",
    "guardar_inmuebles(filename, inmuebles_okupados)\n",
    "\n",
    "filename = f\"inmuebles/todos_los_inmuebles_{now}.json\"\n",
    "guardar_inmuebles(filename, todos_los_inmuebles)"
   ]
  }
 ],
 "metadata": {
  "kernelspec": {
   "display_name": "Python 3",
   "language": "python",
   "name": "python3"
  },
  "language_info": {
   "codemirror_mode": {
    "name": "ipython",
    "version": 3
   },
   "file_extension": ".py",
   "mimetype": "text/x-python",
   "name": "python",
   "nbconvert_exporter": "python",
   "pygments_lexer": "ipython3",
   "version": "3.10.16"
  }
 },
 "nbformat": 4,
 "nbformat_minor": 2
}
